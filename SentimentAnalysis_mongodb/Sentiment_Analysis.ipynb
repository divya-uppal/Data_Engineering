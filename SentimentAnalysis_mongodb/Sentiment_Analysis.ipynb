{
 "cells": [
  {
   "cell_type": "code",
   "execution_count": 4,
   "metadata": {},
   "outputs": [],
   "source": [
    "# Code reference from https://github.com/vbelz/Data-pipeline-twitter/blob/master/etl_job/etl.py\n",
    "\n",
    "from vaderSentiment.vaderSentiment import SentimentIntensityAnalyzer\n",
    "import pandas as pd\n",
    "import pymongo\n",
    "import emoji\n",
    "import re\n",
    "\n",
    "analyser = SentimentIntensityAnalyzer()\n",
    "\n",
    "def length_text(sentence):\n",
    "    \"Return number of character of a text\"\n",
    "    return len(sentence)\n",
    "\n",
    "def clean_text(sentence):\n",
    "    \"Clean the text of the tweets\"\n",
    "    text = re.sub(\"@[A-Za-z0-9]+\",\"\",sentence)\n",
    "    text = re.sub('[)(#$]', '', text)\n",
    "    text = re.sub(\"\\n\", \"\", text) \n",
    "    text = re.sub('(www|http:|https:)+[^\\s]+[\\w]',' ', text)\n",
    "    text = re.sub(\"RT[\\n\\s:]+\",'', text)\n",
    "    text = emoji.replace_emoji(text, '')\n",
    "    return text\n",
    "\n",
    "def negativity_score(sentence):\n",
    "    \"Return the negativity score of the tweet\"\n",
    "    score = analyser.polarity_scores(sentence)\n",
    "    return score['neg']\n",
    "\n",
    "def positivity_score(sentence):\n",
    "    \"Return the positivity score of the tweet\"\n",
    "    score = analyser.polarity_scores(sentence)\n",
    "    return score['pos']\n",
    "\n",
    "def neutral_score(sentence):\n",
    "    \"Return the neutral score of the tweet\"\n",
    "    score = analyser.polarity_scores(sentence)\n",
    "    return score['neu']\n",
    "\n",
    "def compound_score(sentence):\n",
    "    \"Return the compound score of the tweet\"\n",
    "    score = analyser.polarity_scores(sentence)\n",
    "    return score['compound']\n",
    "\n",
    "def label_sentiment(global_nb):\n",
    "    \"Label the tweet from compound_score\"\n",
    "    if global_nb > 0.05:\n",
    "        label = 'positive'\n",
    "    elif global_nb < -0.05:\n",
    "        label = 'negative'\n",
    "    else:\n",
    "        label = 'neutral'\n",
    "    return label"
   ]
  },
  {
   "cell_type": "code",
   "execution_count": null,
   "metadata": {},
   "outputs": [],
   "source": []
  },
  {
   "cell_type": "code",
   "execution_count": null,
   "metadata": {},
   "outputs": [],
   "source": []
  },
  {
   "cell_type": "code",
   "execution_count": null,
   "metadata": {},
   "outputs": [],
   "source": []
  }
 ],
 "metadata": {
  "kernelspec": {
   "display_name": "Python 3 (ipykernel)",
   "language": "python",
   "name": "python3"
  },
  "language_info": {
   "codemirror_mode": {
    "name": "ipython",
    "version": 3
   },
   "file_extension": ".py",
   "mimetype": "text/x-python",
   "name": "python",
   "nbconvert_exporter": "python",
   "pygments_lexer": "ipython3",
   "version": "3.9.7"
  }
 },
 "nbformat": 4,
 "nbformat_minor": 2
}
